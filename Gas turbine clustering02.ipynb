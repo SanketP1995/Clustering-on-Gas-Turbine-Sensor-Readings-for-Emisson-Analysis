{
 "cells": [
  {
   "cell_type": "markdown",
   "id": "0856abea",
   "metadata": {},
   "source": [
    "## Business Problem\n",
    "#### Since the regulations on the exhaust gases of industries are becoming stringent as per global warming and international forums,XYZ industry having a gas turbine wants to examine the optimum operation mode for its gas turbine according to controlled emissions of CO and NOX.The organization wants to control its emmisions but does not want to compromise on the energy yeild of the turbine,hence needs a optimum level where yeild is at optimum level while emmissions are low.The organization has provided the data of the readings measured by sensors at different points of turbine,inlet and exhaust.The organization wants the turbine to be operated at optimum level with low emissions possible.\n",
    "#### So we are using this sensor readings and clustering them using K-Means clustering,which will give us the sensor readings at different clustered levels of emissions,so that the turbine can be fine tuned and operated with those readings obtained.\n"
   ]
  },
  {
   "cell_type": "markdown",
   "id": "71812d86",
   "metadata": {},
   "source": [
    "#### Importing required libraries"
   ]
  },
  {
   "cell_type": "code",
   "execution_count": 9,
   "id": "f440f330",
   "metadata": {},
   "outputs": [],
   "source": [
    "import pandas as pd\n",
    "import numpy as np\n",
    "import matplotlib.pyplot as plt\n",
    "import seaborn as sns\n",
    "import warnings\n",
    "warnings.filterwarnings(\"ignore\")\n",
    "%matplotlib inline\n",
    "pd.set_option('display.max_columns',100)"
   ]
  },
  {
   "cell_type": "markdown",
   "id": "36e3857f",
   "metadata": {},
   "source": [
    "#### Reading data"
   ]
  },
  {
   "cell_type": "code",
   "execution_count": 10,
   "id": "d9b4644c",
   "metadata": {},
   "outputs": [],
   "source": [
    "df=pd.read_csv(r'C:\\Users\\Admin\\Desktop\\gas turbine dataset.csv')"
   ]
  },
  {
   "cell_type": "code",
   "execution_count": 11,
   "id": "aa6d66cc",
   "metadata": {},
   "outputs": [
    {
     "data": {
      "text/html": [
       "<div>\n",
       "<style scoped>\n",
       "    .dataframe tbody tr th:only-of-type {\n",
       "        vertical-align: middle;\n",
       "    }\n",
       "\n",
       "    .dataframe tbody tr th {\n",
       "        vertical-align: top;\n",
       "    }\n",
       "\n",
       "    .dataframe thead th {\n",
       "        text-align: right;\n",
       "    }\n",
       "</style>\n",
       "<table border=\"1\" class=\"dataframe\">\n",
       "  <thead>\n",
       "    <tr style=\"text-align: right;\">\n",
       "      <th></th>\n",
       "      <th>AT</th>\n",
       "      <th>AP</th>\n",
       "      <th>AH</th>\n",
       "      <th>AFDP</th>\n",
       "      <th>GTEP</th>\n",
       "      <th>TIT</th>\n",
       "      <th>TAT</th>\n",
       "      <th>TEY</th>\n",
       "      <th>CDP</th>\n",
       "      <th>CO</th>\n",
       "      <th>NOX</th>\n",
       "    </tr>\n",
       "  </thead>\n",
       "  <tbody>\n",
       "    <tr>\n",
       "      <th>0</th>\n",
       "      <td>4.5878</td>\n",
       "      <td>1018.7</td>\n",
       "      <td>83.675</td>\n",
       "      <td>3.5758</td>\n",
       "      <td>23.979</td>\n",
       "      <td>1086.2</td>\n",
       "      <td>549.83</td>\n",
       "      <td>134.67</td>\n",
       "      <td>11.898</td>\n",
       "      <td>0.32663</td>\n",
       "      <td>81.952</td>\n",
       "    </tr>\n",
       "    <tr>\n",
       "      <th>1</th>\n",
       "      <td>4.2932</td>\n",
       "      <td>1018.3</td>\n",
       "      <td>84.235</td>\n",
       "      <td>3.5709</td>\n",
       "      <td>23.951</td>\n",
       "      <td>1086.1</td>\n",
       "      <td>550.05</td>\n",
       "      <td>134.67</td>\n",
       "      <td>11.892</td>\n",
       "      <td>0.44784</td>\n",
       "      <td>82.377</td>\n",
       "    </tr>\n",
       "    <tr>\n",
       "      <th>2</th>\n",
       "      <td>3.9045</td>\n",
       "      <td>1018.4</td>\n",
       "      <td>84.858</td>\n",
       "      <td>3.5828</td>\n",
       "      <td>23.990</td>\n",
       "      <td>1086.5</td>\n",
       "      <td>550.19</td>\n",
       "      <td>135.10</td>\n",
       "      <td>12.042</td>\n",
       "      <td>0.45144</td>\n",
       "      <td>83.776</td>\n",
       "    </tr>\n",
       "    <tr>\n",
       "      <th>3</th>\n",
       "      <td>3.7436</td>\n",
       "      <td>1018.3</td>\n",
       "      <td>85.434</td>\n",
       "      <td>3.5808</td>\n",
       "      <td>23.911</td>\n",
       "      <td>1086.5</td>\n",
       "      <td>550.17</td>\n",
       "      <td>135.03</td>\n",
       "      <td>11.990</td>\n",
       "      <td>0.23107</td>\n",
       "      <td>82.505</td>\n",
       "    </tr>\n",
       "    <tr>\n",
       "      <th>4</th>\n",
       "      <td>3.7516</td>\n",
       "      <td>1017.8</td>\n",
       "      <td>85.182</td>\n",
       "      <td>3.5781</td>\n",
       "      <td>23.917</td>\n",
       "      <td>1085.9</td>\n",
       "      <td>550.00</td>\n",
       "      <td>134.67</td>\n",
       "      <td>11.910</td>\n",
       "      <td>0.26747</td>\n",
       "      <td>82.028</td>\n",
       "    </tr>\n",
       "    <tr>\n",
       "      <th>...</th>\n",
       "      <td>...</td>\n",
       "      <td>...</td>\n",
       "      <td>...</td>\n",
       "      <td>...</td>\n",
       "      <td>...</td>\n",
       "      <td>...</td>\n",
       "      <td>...</td>\n",
       "      <td>...</td>\n",
       "      <td>...</td>\n",
       "      <td>...</td>\n",
       "      <td>...</td>\n",
       "    </tr>\n",
       "    <tr>\n",
       "      <th>7406</th>\n",
       "      <td>9.0301</td>\n",
       "      <td>1005.6</td>\n",
       "      <td>98.460</td>\n",
       "      <td>3.5421</td>\n",
       "      <td>19.164</td>\n",
       "      <td>1049.7</td>\n",
       "      <td>546.21</td>\n",
       "      <td>111.61</td>\n",
       "      <td>10.400</td>\n",
       "      <td>4.51860</td>\n",
       "      <td>79.559</td>\n",
       "    </tr>\n",
       "    <tr>\n",
       "      <th>7407</th>\n",
       "      <td>7.8879</td>\n",
       "      <td>1005.9</td>\n",
       "      <td>99.093</td>\n",
       "      <td>3.5059</td>\n",
       "      <td>19.414</td>\n",
       "      <td>1046.3</td>\n",
       "      <td>543.22</td>\n",
       "      <td>111.78</td>\n",
       "      <td>10.433</td>\n",
       "      <td>4.84700</td>\n",
       "      <td>79.917</td>\n",
       "    </tr>\n",
       "    <tr>\n",
       "      <th>7408</th>\n",
       "      <td>7.2647</td>\n",
       "      <td>1006.3</td>\n",
       "      <td>99.496</td>\n",
       "      <td>3.4770</td>\n",
       "      <td>19.530</td>\n",
       "      <td>1037.7</td>\n",
       "      <td>537.32</td>\n",
       "      <td>110.19</td>\n",
       "      <td>10.483</td>\n",
       "      <td>7.96320</td>\n",
       "      <td>90.912</td>\n",
       "    </tr>\n",
       "    <tr>\n",
       "      <th>7409</th>\n",
       "      <td>7.0060</td>\n",
       "      <td>1006.8</td>\n",
       "      <td>99.008</td>\n",
       "      <td>3.4486</td>\n",
       "      <td>19.377</td>\n",
       "      <td>1043.2</td>\n",
       "      <td>541.24</td>\n",
       "      <td>110.74</td>\n",
       "      <td>10.533</td>\n",
       "      <td>6.24940</td>\n",
       "      <td>93.227</td>\n",
       "    </tr>\n",
       "    <tr>\n",
       "      <th>7410</th>\n",
       "      <td>6.9279</td>\n",
       "      <td>1007.2</td>\n",
       "      <td>97.533</td>\n",
       "      <td>3.4275</td>\n",
       "      <td>19.306</td>\n",
       "      <td>1049.9</td>\n",
       "      <td>545.85</td>\n",
       "      <td>111.58</td>\n",
       "      <td>10.583</td>\n",
       "      <td>4.98160</td>\n",
       "      <td>92.498</td>\n",
       "    </tr>\n",
       "  </tbody>\n",
       "</table>\n",
       "<p>7411 rows × 11 columns</p>\n",
       "</div>"
      ],
      "text/plain": [
       "          AT      AP      AH    AFDP    GTEP     TIT     TAT     TEY     CDP  \\\n",
       "0     4.5878  1018.7  83.675  3.5758  23.979  1086.2  549.83  134.67  11.898   \n",
       "1     4.2932  1018.3  84.235  3.5709  23.951  1086.1  550.05  134.67  11.892   \n",
       "2     3.9045  1018.4  84.858  3.5828  23.990  1086.5  550.19  135.10  12.042   \n",
       "3     3.7436  1018.3  85.434  3.5808  23.911  1086.5  550.17  135.03  11.990   \n",
       "4     3.7516  1017.8  85.182  3.5781  23.917  1085.9  550.00  134.67  11.910   \n",
       "...      ...     ...     ...     ...     ...     ...     ...     ...     ...   \n",
       "7406  9.0301  1005.6  98.460  3.5421  19.164  1049.7  546.21  111.61  10.400   \n",
       "7407  7.8879  1005.9  99.093  3.5059  19.414  1046.3  543.22  111.78  10.433   \n",
       "7408  7.2647  1006.3  99.496  3.4770  19.530  1037.7  537.32  110.19  10.483   \n",
       "7409  7.0060  1006.8  99.008  3.4486  19.377  1043.2  541.24  110.74  10.533   \n",
       "7410  6.9279  1007.2  97.533  3.4275  19.306  1049.9  545.85  111.58  10.583   \n",
       "\n",
       "           CO     NOX  \n",
       "0     0.32663  81.952  \n",
       "1     0.44784  82.377  \n",
       "2     0.45144  83.776  \n",
       "3     0.23107  82.505  \n",
       "4     0.26747  82.028  \n",
       "...       ...     ...  \n",
       "7406  4.51860  79.559  \n",
       "7407  4.84700  79.917  \n",
       "7408  7.96320  90.912  \n",
       "7409  6.24940  93.227  \n",
       "7410  4.98160  92.498  \n",
       "\n",
       "[7411 rows x 11 columns]"
      ]
     },
     "execution_count": 11,
     "metadata": {},
     "output_type": "execute_result"
    }
   ],
   "source": [
    "df"
   ]
  },
  {
   "cell_type": "markdown",
   "id": "736a110e",
   "metadata": {},
   "source": [
    "#### Checking for null values\n",
    "#### No null values found"
   ]
  },
  {
   "cell_type": "code",
   "execution_count": 4,
   "id": "6bc4938e",
   "metadata": {},
   "outputs": [
    {
     "data": {
      "text/plain": [
       "AT      0\n",
       "AP      0\n",
       "AH      0\n",
       "AFDP    0\n",
       "GTEP    0\n",
       "TIT     0\n",
       "TAT     0\n",
       "TEY     0\n",
       "CDP     0\n",
       "CO      0\n",
       "NOX     0\n",
       "dtype: int64"
      ]
     },
     "execution_count": 4,
     "metadata": {},
     "output_type": "execute_result"
    }
   ],
   "source": [
    "df.isnull().sum()"
   ]
  },
  {
   "cell_type": "markdown",
   "id": "292d0455",
   "metadata": {},
   "source": [
    "#### Checing for duplicate rows\n",
    "#### No duplicate rows found"
   ]
  },
  {
   "cell_type": "code",
   "execution_count": 5,
   "id": "63a9cdc6",
   "metadata": {},
   "outputs": [
    {
     "data": {
      "text/plain": [
       "0"
      ]
     },
     "execution_count": 5,
     "metadata": {},
     "output_type": "execute_result"
    }
   ],
   "source": [
    "df.duplicated().sum()"
   ]
  },
  {
   "cell_type": "code",
   "execution_count": 6,
   "id": "1be4f4ae",
   "metadata": {},
   "outputs": [
    {
     "name": "stdout",
     "output_type": "stream",
     "text": [
      "<class 'pandas.core.frame.DataFrame'>\n",
      "RangeIndex: 7411 entries, 0 to 7410\n",
      "Data columns (total 11 columns):\n",
      " #   Column  Non-Null Count  Dtype  \n",
      "---  ------  --------------  -----  \n",
      " 0   AT      7411 non-null   float64\n",
      " 1   AP      7411 non-null   float64\n",
      " 2   AH      7411 non-null   float64\n",
      " 3   AFDP    7411 non-null   float64\n",
      " 4   GTEP    7411 non-null   float64\n",
      " 5   TIT     7411 non-null   float64\n",
      " 6   TAT     7411 non-null   float64\n",
      " 7   TEY     7411 non-null   float64\n",
      " 8   CDP     7411 non-null   float64\n",
      " 9   CO      7411 non-null   float64\n",
      " 10  NOX     7411 non-null   float64\n",
      "dtypes: float64(11)\n",
      "memory usage: 637.0 KB\n"
     ]
    }
   ],
   "source": [
    "df.info()"
   ]
  },
  {
   "cell_type": "markdown",
   "id": "c35bf88d",
   "metadata": {},
   "source": [
    "#### Checking spread of variables as this would highly affect clustering"
   ]
  },
  {
   "cell_type": "code",
   "execution_count": 7,
   "id": "8888ab94",
   "metadata": {},
   "outputs": [
    {
     "data": {
      "text/html": [
       "<div>\n",
       "<style scoped>\n",
       "    .dataframe tbody tr th:only-of-type {\n",
       "        vertical-align: middle;\n",
       "    }\n",
       "\n",
       "    .dataframe tbody tr th {\n",
       "        vertical-align: top;\n",
       "    }\n",
       "\n",
       "    .dataframe thead th {\n",
       "        text-align: right;\n",
       "    }\n",
       "</style>\n",
       "<table border=\"1\" class=\"dataframe\">\n",
       "  <thead>\n",
       "    <tr style=\"text-align: right;\">\n",
       "      <th></th>\n",
       "      <th>AT</th>\n",
       "      <th>AP</th>\n",
       "      <th>AH</th>\n",
       "      <th>AFDP</th>\n",
       "      <th>GTEP</th>\n",
       "      <th>TIT</th>\n",
       "      <th>TAT</th>\n",
       "      <th>TEY</th>\n",
       "      <th>CDP</th>\n",
       "      <th>CO</th>\n",
       "      <th>NOX</th>\n",
       "    </tr>\n",
       "  </thead>\n",
       "  <tbody>\n",
       "    <tr>\n",
       "      <th>count</th>\n",
       "      <td>7411.000000</td>\n",
       "      <td>7411.000000</td>\n",
       "      <td>7411.000000</td>\n",
       "      <td>7411.000000</td>\n",
       "      <td>7411.000000</td>\n",
       "      <td>7411.000000</td>\n",
       "      <td>7411.000000</td>\n",
       "      <td>7411.000000</td>\n",
       "      <td>7411.000000</td>\n",
       "      <td>7411.000000</td>\n",
       "      <td>7411.000000</td>\n",
       "    </tr>\n",
       "    <tr>\n",
       "      <th>mean</th>\n",
       "      <td>17.112261</td>\n",
       "      <td>1014.167883</td>\n",
       "      <td>79.174989</td>\n",
       "      <td>4.090755</td>\n",
       "      <td>25.663721</td>\n",
       "      <td>1084.733909</td>\n",
       "      <td>544.503170</td>\n",
       "      <td>135.745675</td>\n",
       "      <td>12.207578</td>\n",
       "      <td>1.572486</td>\n",
       "      <td>67.575392</td>\n",
       "    </tr>\n",
       "    <tr>\n",
       "      <th>std</th>\n",
       "      <td>7.428307</td>\n",
       "      <td>6.293003</td>\n",
       "      <td>13.465898</td>\n",
       "      <td>0.661865</td>\n",
       "      <td>4.325835</td>\n",
       "      <td>16.134972</td>\n",
       "      <td>8.288471</td>\n",
       "      <td>16.209187</td>\n",
       "      <td>1.146561</td>\n",
       "      <td>1.845442</td>\n",
       "      <td>10.683331</td>\n",
       "    </tr>\n",
       "    <tr>\n",
       "      <th>min</th>\n",
       "      <td>2.116300</td>\n",
       "      <td>995.790000</td>\n",
       "      <td>34.493000</td>\n",
       "      <td>2.758400</td>\n",
       "      <td>17.878000</td>\n",
       "      <td>1000.800000</td>\n",
       "      <td>512.450000</td>\n",
       "      <td>100.170000</td>\n",
       "      <td>9.904400</td>\n",
       "      <td>0.000388</td>\n",
       "      <td>27.765000</td>\n",
       "    </tr>\n",
       "    <tr>\n",
       "      <th>25%</th>\n",
       "      <td>10.992000</td>\n",
       "      <td>1009.800000</td>\n",
       "      <td>70.428500</td>\n",
       "      <td>3.644750</td>\n",
       "      <td>23.364500</td>\n",
       "      <td>1082.500000</td>\n",
       "      <td>538.560000</td>\n",
       "      <td>130.745000</td>\n",
       "      <td>11.684000</td>\n",
       "      <td>0.726405</td>\n",
       "      <td>60.361500</td>\n",
       "    </tr>\n",
       "    <tr>\n",
       "      <th>50%</th>\n",
       "      <td>16.366000</td>\n",
       "      <td>1013.600000</td>\n",
       "      <td>82.129000</td>\n",
       "      <td>4.026300</td>\n",
       "      <td>24.770000</td>\n",
       "      <td>1088.000000</td>\n",
       "      <td>549.860000</td>\n",
       "      <td>133.810000</td>\n",
       "      <td>12.008000</td>\n",
       "      <td>1.155700</td>\n",
       "      <td>65.542000</td>\n",
       "    </tr>\n",
       "    <tr>\n",
       "      <th>75%</th>\n",
       "      <td>23.344500</td>\n",
       "      <td>1018.100000</td>\n",
       "      <td>89.778000</td>\n",
       "      <td>4.480350</td>\n",
       "      <td>29.879500</td>\n",
       "      <td>1099.800000</td>\n",
       "      <td>550.040000</td>\n",
       "      <td>148.325000</td>\n",
       "      <td>13.257000</td>\n",
       "      <td>1.754600</td>\n",
       "      <td>74.314500</td>\n",
       "    </tr>\n",
       "    <tr>\n",
       "      <th>max</th>\n",
       "      <td>34.532000</td>\n",
       "      <td>1034.200000</td>\n",
       "      <td>100.170000</td>\n",
       "      <td>7.318900</td>\n",
       "      <td>36.003000</td>\n",
       "      <td>1100.600000</td>\n",
       "      <td>550.610000</td>\n",
       "      <td>170.000000</td>\n",
       "      <td>14.851000</td>\n",
       "      <td>43.622000</td>\n",
       "      <td>119.320000</td>\n",
       "    </tr>\n",
       "  </tbody>\n",
       "</table>\n",
       "</div>"
      ],
      "text/plain": [
       "                AT           AP           AH         AFDP         GTEP  \\\n",
       "count  7411.000000  7411.000000  7411.000000  7411.000000  7411.000000   \n",
       "mean     17.112261  1014.167883    79.174989     4.090755    25.663721   \n",
       "std       7.428307     6.293003    13.465898     0.661865     4.325835   \n",
       "min       2.116300   995.790000    34.493000     2.758400    17.878000   \n",
       "25%      10.992000  1009.800000    70.428500     3.644750    23.364500   \n",
       "50%      16.366000  1013.600000    82.129000     4.026300    24.770000   \n",
       "75%      23.344500  1018.100000    89.778000     4.480350    29.879500   \n",
       "max      34.532000  1034.200000   100.170000     7.318900    36.003000   \n",
       "\n",
       "               TIT          TAT          TEY          CDP           CO  \\\n",
       "count  7411.000000  7411.000000  7411.000000  7411.000000  7411.000000   \n",
       "mean   1084.733909   544.503170   135.745675    12.207578     1.572486   \n",
       "std      16.134972     8.288471    16.209187     1.146561     1.845442   \n",
       "min    1000.800000   512.450000   100.170000     9.904400     0.000388   \n",
       "25%    1082.500000   538.560000   130.745000    11.684000     0.726405   \n",
       "50%    1088.000000   549.860000   133.810000    12.008000     1.155700   \n",
       "75%    1099.800000   550.040000   148.325000    13.257000     1.754600   \n",
       "max    1100.600000   550.610000   170.000000    14.851000    43.622000   \n",
       "\n",
       "               NOX  \n",
       "count  7411.000000  \n",
       "mean     67.575392  \n",
       "std      10.683331  \n",
       "min      27.765000  \n",
       "25%      60.361500  \n",
       "50%      65.542000  \n",
       "75%      74.314500  \n",
       "max     119.320000  "
      ]
     },
     "execution_count": 7,
     "metadata": {},
     "output_type": "execute_result"
    }
   ],
   "source": [
    "df.describe()"
   ]
  },
  {
   "cell_type": "markdown",
   "id": "27f1a4fc",
   "metadata": {},
   "source": [
    "#### Treating outliers- AH,AFDP,TIT,CO"
   ]
  },
  {
   "cell_type": "code",
   "execution_count": 19,
   "id": "09561582",
   "metadata": {},
   "outputs": [
    {
     "data": {
      "text/plain": [
       "<AxesSubplot:xlabel='AH'>"
      ]
     },
     "execution_count": 19,
     "metadata": {},
     "output_type": "execute_result"
    },
    {
     "data": {
      "image/png": "[encoded data removed]",
      "text/plain": [
       "<Figure size 432x288 with 1 Axes>"
      ]
     },
     "metadata": {
      "needs_background": "light"
     },
     "output_type": "display_data"
    }
   ],
   "source": [
    "sns.boxplot(df['AH'])"
   ]
  },
  {
   "cell_type": "code",
   "execution_count": 21,
   "id": "e8d46139",
   "metadata": {},
   "outputs": [
    {
     "name": "stdout",
     "output_type": "stream",
     "text": [
      "119.56995797242962\n"
     ]
    },
    {
     "data": {
      "text/plain": [
       "38.78001989830299"
      ]
     },
     "execution_count": 21,
     "metadata": {},
     "output_type": "execute_result"
    }
   ],
   "source": [
    "m=np.mean(df.AH)\n",
    "sd=np.std(df.AH)\n",
    "print(m+3*sd)\n",
    "a=(m-3*sd)\n",
    "a"
   ]
  },
  {
   "cell_type": "code",
   "execution_count": 22,
   "id": "42bf6b39",
   "metadata": {},
   "outputs": [],
   "source": [
    "df['AH']=np.where(df['AH']<a,a,df['AH'])"
   ]
  },
  {
   "cell_type": "code",
   "execution_count": 23,
   "id": "312fdd23",
   "metadata": {},
   "outputs": [
    {
     "data": {
      "text/plain": [
       "<AxesSubplot:xlabel='AH'>"
      ]
     },
     "execution_count": 23,
     "metadata": {},
     "output_type": "execute_result"
    },
    {
     "data": {
      "image/png": "[encoded data removed]",
      "text/plain": [
       "<Figure size 432x288 with 1 Axes>"
      ]
     },
     "metadata": {
      "needs_background": "light"
     },
     "output_type": "display_data"
    }
   ],
   "source": [
    "sns.boxplot(df['AH'])"
   ]
  },
  {
   "cell_type": "code",
   "execution_count": 24,
   "id": "e62c0d0c",
   "metadata": {},
   "outputs": [
    {
     "data": {
      "text/plain": [
       "<AxesSubplot:xlabel='AFDP'>"
      ]
     },
     "execution_count": 24,
     "metadata": {},
     "output_type": "execute_result"
    },
    {
     "data": {
      "image/png": "[encoded data removed]",
      "text/plain": [
       "<Figure size 432x288 with 1 Axes>"
      ]
     },
     "metadata": {
      "needs_background": "light"
     },
     "output_type": "display_data"
    }
   ],
   "source": [
    "sns.boxplot(df['AFDP'])"
   ]
  },
  {
   "cell_type": "code",
   "execution_count": 25,
   "id": "4c6b1cb2",
   "metadata": {},
   "outputs": [
    {
     "data": {
      "text/plain": [
       "6.076214359822041"
      ]
     },
     "execution_count": 25,
     "metadata": {},
     "output_type": "execute_result"
    }
   ],
   "source": [
    "m=np.mean(df['AFDP'])\n",
    "sd=np.std(df['AFDP'])\n",
    "a=m+3*sd\n",
    "a"
   ]
  },
  {
   "cell_type": "code",
   "execution_count": 26,
   "id": "d173a99f",
   "metadata": {},
   "outputs": [],
   "source": [
    "df['AFDP']=np.where(df['AFDP']>a,a,df['AFDP'])"
   ]
  },
  {
   "cell_type": "code",
   "execution_count": 27,
   "id": "804c8e49",
   "metadata": {},
   "outputs": [
    {
     "data": {
      "text/plain": [
       "<AxesSubplot:xlabel='AFDP'>"
      ]
     },
     "execution_count": 27,
     "metadata": {},
     "output_type": "execute_result"
    },
    {
     "data": {
      "image/png": "[encoded data removed]",
      "text/plain": [
       "<Figure size 432x288 with 1 Axes>"
      ]
     },
     "metadata": {
      "needs_background": "light"
     },
     "output_type": "display_data"
    }
   ],
   "source": [
    "sns.boxplot(df['AFDP'])"
   ]
  },
  {
   "cell_type": "code",
   "execution_count": 28,
   "id": "b28bd1ff",
   "metadata": {},
   "outputs": [
    {
     "data": {
      "text/plain": [
       "<AxesSubplot:xlabel='TIT'>"
      ]
     },
     "execution_count": 28,
     "metadata": {},
     "output_type": "execute_result"
    },
    {
     "data": {
      "image/png": "[encoded data removed]",
      "text/plain": [
       "<Figure size 432x288 with 1 Axes>"
      ]
     },
     "metadata": {
      "needs_background": "light"
     },
     "output_type": "display_data"
    }
   ],
   "source": [
    "sns.boxplot(df['TIT'])"
   ]
  },
  {
   "cell_type": "code",
   "execution_count": 29,
   "id": "3219fbd6",
   "metadata": {},
   "outputs": [
    {
     "data": {
      "text/plain": [
       "1036.332258701736"
      ]
     },
     "execution_count": 29,
     "metadata": {},
     "output_type": "execute_result"
    }
   ],
   "source": [
    "m=np.mean(df['TIT'])\n",
    "sd=np.std(df['TIT'])\n",
    "a=m-3*sd\n",
    "a"
   ]
  },
  {
   "cell_type": "code",
   "execution_count": 30,
   "id": "9500af5b",
   "metadata": {},
   "outputs": [],
   "source": [
    "df['TIT']=np.where(df['TIT']<a,a,df['TIT'])"
   ]
  },
  {
   "cell_type": "code",
   "execution_count": 31,
   "id": "f6137c02",
   "metadata": {},
   "outputs": [
    {
     "data": {
      "text/plain": [
       "<AxesSubplot:xlabel='TIT'>"
      ]
     },
     "execution_count": 31,
     "metadata": {},
     "output_type": "execute_result"
    },
    {
     "data": {
      "image/png": "[encoded data removed]",
      "text/plain": [
       "<Figure size 432x288 with 1 Axes>"
      ]
     },
     "metadata": {
      "needs_background": "light"
     },
     "output_type": "display_data"
    }
   ],
   "source": [
    "sns.boxplot(df['TIT'])"
   ]
  },
  {
   "cell_type": "code",
   "execution_count": 32,
   "id": "bce63141",
   "metadata": {},
   "outputs": [
    {
     "data": {
      "text/plain": [
       "<AxesSubplot:xlabel='CO'>"
      ]
     },
     "execution_count": 32,
     "metadata": {},
     "output_type": "execute_result"
    },
    {
     "data": {
      "image/png": "[encoded data removed]",
      "text/plain": [
       "<Figure size 432x288 with 1 Axes>"
      ]
     },
     "metadata": {
      "needs_background": "light"
     },
     "output_type": "display_data"
    }
   ],
   "source": [
    "sns.boxplot(df['CO'])"
   ]
  },
  {
   "cell_type": "code",
   "execution_count": 33,
   "id": "ee2cba9e",
   "metadata": {},
   "outputs": [
    {
     "data": {
      "text/plain": [
       "7.108438334292933"
      ]
     },
     "execution_count": 33,
     "metadata": {},
     "output_type": "execute_result"
    }
   ],
   "source": [
    "m=np.mean(df['CO'])\n",
    "sd=np.std(df['CO'])\n",
    "a=m+3*sd\n",
    "a"
   ]
  },
  {
   "cell_type": "code",
   "execution_count": 34,
   "id": "8dca6aef",
   "metadata": {},
   "outputs": [
    {
     "data": {
      "text/plain": [
       "<AxesSubplot:xlabel='CO'>"
      ]
     },
     "execution_count": 34,
     "metadata": {},
     "output_type": "execute_result"
    },
    {
     "data": {
      "image/png": "[encoded data removed]",
      "text/plain": [
       "<Figure size 432x288 with 1 Axes>"
      ]
     },
     "metadata": {
      "needs_background": "light"
     },
     "output_type": "display_data"
    }
   ],
   "source": [
    "df['CO']=np.where(df['CO']>a,a,df['CO'])\n",
    "sns.boxplot(df['CO'])"
   ]
  },
  {
   "cell_type": "markdown",
   "id": "81ce4603",
   "metadata": {},
   "source": [
    "#### Checking spread of variables again"
   ]
  },
  {
   "cell_type": "code",
   "execution_count": 35,
   "id": "2b772584",
   "metadata": {},
   "outputs": [
    {
     "data": {
      "text/html": [
       "<div>\n",
       "<style scoped>\n",
       "    .dataframe tbody tr th:only-of-type {\n",
       "        vertical-align: middle;\n",
       "    }\n",
       "\n",
       "    .dataframe tbody tr th {\n",
       "        vertical-align: top;\n",
       "    }\n",
       "\n",
       "    .dataframe thead th {\n",
       "        text-align: right;\n",
       "    }\n",
       "</style>\n",
       "<table border=\"1\" class=\"dataframe\">\n",
       "  <thead>\n",
       "    <tr style=\"text-align: right;\">\n",
       "      <th></th>\n",
       "      <th>AT</th>\n",
       "      <th>AP</th>\n",
       "      <th>AH</th>\n",
       "      <th>AFDP</th>\n",
       "      <th>GTEP</th>\n",
       "      <th>TIT</th>\n",
       "      <th>TAT</th>\n",
       "      <th>TEY</th>\n",
       "      <th>CDP</th>\n",
       "      <th>CO</th>\n",
       "      <th>NOX</th>\n",
       "      <th>labels</th>\n",
       "    </tr>\n",
       "  </thead>\n",
       "  <tbody>\n",
       "    <tr>\n",
       "      <th>count</th>\n",
       "      <td>7411.000000</td>\n",
       "      <td>7411.000000</td>\n",
       "      <td>7411.000000</td>\n",
       "      <td>7411.000000</td>\n",
       "      <td>7411.000000</td>\n",
       "      <td>7411.000000</td>\n",
       "      <td>7411.000000</td>\n",
       "      <td>7411.000000</td>\n",
       "      <td>7411.000000</td>\n",
       "      <td>7411.000000</td>\n",
       "      <td>7411.000000</td>\n",
       "      <td>7411.000000</td>\n",
       "    </tr>\n",
       "    <tr>\n",
       "      <th>mean</th>\n",
       "      <td>17.112261</td>\n",
       "      <td>1014.167883</td>\n",
       "      <td>79.179640</td>\n",
       "      <td>4.090343</td>\n",
       "      <td>25.663721</td>\n",
       "      <td>1084.805083</td>\n",
       "      <td>544.503170</td>\n",
       "      <td>135.745675</td>\n",
       "      <td>12.207578</td>\n",
       "      <td>1.499070</td>\n",
       "      <td>67.575392</td>\n",
       "      <td>0.771421</td>\n",
       "    </tr>\n",
       "    <tr>\n",
       "      <th>std</th>\n",
       "      <td>7.428307</td>\n",
       "      <td>6.293003</td>\n",
       "      <td>13.451474</td>\n",
       "      <td>0.660313</td>\n",
       "      <td>4.325835</td>\n",
       "      <td>15.882269</td>\n",
       "      <td>8.288471</td>\n",
       "      <td>16.209187</td>\n",
       "      <td>1.146561</td>\n",
       "      <td>1.309443</td>\n",
       "      <td>10.683331</td>\n",
       "      <td>0.419946</td>\n",
       "    </tr>\n",
       "    <tr>\n",
       "      <th>min</th>\n",
       "      <td>2.116300</td>\n",
       "      <td>995.790000</td>\n",
       "      <td>38.780020</td>\n",
       "      <td>2.758400</td>\n",
       "      <td>17.878000</td>\n",
       "      <td>1036.332259</td>\n",
       "      <td>512.450000</td>\n",
       "      <td>100.170000</td>\n",
       "      <td>9.904400</td>\n",
       "      <td>0.000388</td>\n",
       "      <td>27.765000</td>\n",
       "      <td>0.000000</td>\n",
       "    </tr>\n",
       "    <tr>\n",
       "      <th>25%</th>\n",
       "      <td>10.992000</td>\n",
       "      <td>1009.800000</td>\n",
       "      <td>70.428500</td>\n",
       "      <td>3.644750</td>\n",
       "      <td>23.364500</td>\n",
       "      <td>1082.500000</td>\n",
       "      <td>538.560000</td>\n",
       "      <td>130.745000</td>\n",
       "      <td>11.684000</td>\n",
       "      <td>0.726405</td>\n",
       "      <td>60.361500</td>\n",
       "      <td>1.000000</td>\n",
       "    </tr>\n",
       "    <tr>\n",
       "      <th>50%</th>\n",
       "      <td>16.366000</td>\n",
       "      <td>1013.600000</td>\n",
       "      <td>82.129000</td>\n",
       "      <td>4.026300</td>\n",
       "      <td>24.770000</td>\n",
       "      <td>1088.000000</td>\n",
       "      <td>549.860000</td>\n",
       "      <td>133.810000</td>\n",
       "      <td>12.008000</td>\n",
       "      <td>1.155700</td>\n",
       "      <td>65.542000</td>\n",
       "      <td>1.000000</td>\n",
       "    </tr>\n",
       "    <tr>\n",
       "      <th>75%</th>\n",
       "      <td>23.344500</td>\n",
       "      <td>1018.100000</td>\n",
       "      <td>89.778000</td>\n",
       "      <td>4.480350</td>\n",
       "      <td>29.879500</td>\n",
       "      <td>1099.800000</td>\n",
       "      <td>550.040000</td>\n",
       "      <td>148.325000</td>\n",
       "      <td>13.257000</td>\n",
       "      <td>1.754600</td>\n",
       "      <td>74.314500</td>\n",
       "      <td>1.000000</td>\n",
       "    </tr>\n",
       "    <tr>\n",
       "      <th>max</th>\n",
       "      <td>34.532000</td>\n",
       "      <td>1034.200000</td>\n",
       "      <td>100.170000</td>\n",
       "      <td>6.076214</td>\n",
       "      <td>36.003000</td>\n",
       "      <td>1100.600000</td>\n",
       "      <td>550.610000</td>\n",
       "      <td>170.000000</td>\n",
       "      <td>14.851000</td>\n",
       "      <td>7.108438</td>\n",
       "      <td>119.320000</td>\n",
       "      <td>1.000000</td>\n",
       "    </tr>\n",
       "  </tbody>\n",
       "</table>\n",
       "</div>"
      ],
      "text/plain": [
       "                AT           AP           AH         AFDP         GTEP  \\\n",
       "count  7411.000000  7411.000000  7411.000000  7411.000000  7411.000000   \n",
       "mean     17.112261  1014.167883    79.179640     4.090343    25.663721   \n",
       "std       7.428307     6.293003    13.451474     0.660313     4.325835   \n",
       "min       2.116300   995.790000    38.780020     2.758400    17.878000   \n",
       "25%      10.992000  1009.800000    70.428500     3.644750    23.364500   \n",
       "50%      16.366000  1013.600000    82.129000     4.026300    24.770000   \n",
       "75%      23.344500  1018.100000    89.778000     4.480350    29.879500   \n",
       "max      34.532000  1034.200000   100.170000     6.076214    36.003000   \n",
       "\n",
       "               TIT          TAT          TEY          CDP           CO  \\\n",
       "count  7411.000000  7411.000000  7411.000000  7411.000000  7411.000000   \n",
       "mean   1084.805083   544.503170   135.745675    12.207578     1.499070   \n",
       "std      15.882269     8.288471    16.209187     1.146561     1.309443   \n",
       "min    1036.332259   512.450000   100.170000     9.904400     0.000388   \n",
       "25%    1082.500000   538.560000   130.745000    11.684000     0.726405   \n",
       "50%    1088.000000   549.860000   133.810000    12.008000     1.155700   \n",
       "75%    1099.800000   550.040000   148.325000    13.257000     1.754600   \n",
       "max    1100.600000   550.610000   170.000000    14.851000     7.108438   \n",
       "\n",
       "               NOX       labels  \n",
       "count  7411.000000  7411.000000  \n",
       "mean     67.575392     0.771421  \n",
       "std      10.683331     0.419946  \n",
       "min      27.765000     0.000000  \n",
       "25%      60.361500     1.000000  \n",
       "50%      65.542000     1.000000  \n",
       "75%      74.314500     1.000000  \n",
       "max     119.320000     1.000000  "
      ]
     },
     "execution_count": 35,
     "metadata": {},
     "output_type": "execute_result"
    }
   ],
   "source": [
    "df.describe()"
   ]
  },
  {
   "cell_type": "markdown",
   "id": "3e81aabf",
   "metadata": {},
   "source": [
    "#### Model Building"
   ]
  },
  {
   "cell_type": "code",
   "execution_count": 36,
   "id": "945e7603",
   "metadata": {},
   "outputs": [],
   "source": [
    "from sklearn.cluster import KMeans"
   ]
  },
  {
   "cell_type": "code",
   "execution_count": 37,
   "id": "b5f8d172",
   "metadata": {},
   "outputs": [],
   "source": [
    "wcss=[]\n",
    "for i in range(1,11):\n",
    "    kmeans=KMeans(n_clusters=i)\n",
    "    kmeans.fit(df)\n",
    "    wcss.append(kmeans.inertia_)"
   ]
  },
  {
   "cell_type": "code",
   "execution_count": 38,
   "id": "a91a5d7b",
   "metadata": {},
   "outputs": [
    {
     "data": {
      "image/png": "[encoded data removed]",
      "text/plain": [
       "<Figure size 432x288 with 1 Axes>"
      ]
     },
     "metadata": {
      "needs_background": "light"
     },
     "output_type": "display_data"
    }
   ],
   "source": [
    "plt.plot(range(1,11),wcss,marker='o')\n",
    "plt.title(\"Elbow Chart\")\n",
    "plt.show()\n"
   ]
  },
  {
   "cell_type": "code",
   "execution_count": 54,
   "id": "4bfd5e9a",
   "metadata": {},
   "outputs": [
    {
     "data": {
      "text/plain": [
       "KMeans(n_clusters=3)"
      ]
     },
     "execution_count": 54,
     "metadata": {},
     "output_type": "execute_result"
    }
   ],
   "source": [
    "kmeans=KMeans(n_clusters=3)\n",
    "kmeans.fit(df)"
   ]
  },
  {
   "cell_type": "code",
   "execution_count": 55,
   "id": "738432b3",
   "metadata": {},
   "outputs": [],
   "source": [
    "df['labels']=kmeans.labels_"
   ]
  },
  {
   "cell_type": "code",
   "execution_count": 56,
   "id": "0876a778",
   "metadata": {},
   "outputs": [
    {
     "data": {
      "text/html": [
       "<div>\n",
       "<style scoped>\n",
       "    .dataframe tbody tr th:only-of-type {\n",
       "        vertical-align: middle;\n",
       "    }\n",
       "\n",
       "    .dataframe tbody tr th {\n",
       "        vertical-align: top;\n",
       "    }\n",
       "\n",
       "    .dataframe thead th {\n",
       "        text-align: right;\n",
       "    }\n",
       "</style>\n",
       "<table border=\"1\" class=\"dataframe\">\n",
       "  <thead>\n",
       "    <tr style=\"text-align: right;\">\n",
       "      <th></th>\n",
       "      <th>AT</th>\n",
       "      <th>AP</th>\n",
       "      <th>AH</th>\n",
       "      <th>AFDP</th>\n",
       "      <th>GTEP</th>\n",
       "      <th>TIT</th>\n",
       "      <th>TAT</th>\n",
       "      <th>TEY</th>\n",
       "      <th>CDP</th>\n",
       "      <th>CO</th>\n",
       "      <th>NOX</th>\n",
       "      <th>labels</th>\n",
       "    </tr>\n",
       "  </thead>\n",
       "  <tbody>\n",
       "    <tr>\n",
       "      <th>7406</th>\n",
       "      <td>9.0301</td>\n",
       "      <td>1005.6</td>\n",
       "      <td>98.460</td>\n",
       "      <td>3.5421</td>\n",
       "      <td>19.164</td>\n",
       "      <td>1049.7</td>\n",
       "      <td>546.21</td>\n",
       "      <td>111.61</td>\n",
       "      <td>10.400</td>\n",
       "      <td>4.518600</td>\n",
       "      <td>79.559</td>\n",
       "      <td>1</td>\n",
       "    </tr>\n",
       "    <tr>\n",
       "      <th>7407</th>\n",
       "      <td>7.8879</td>\n",
       "      <td>1005.9</td>\n",
       "      <td>99.093</td>\n",
       "      <td>3.5059</td>\n",
       "      <td>19.414</td>\n",
       "      <td>1046.3</td>\n",
       "      <td>543.22</td>\n",
       "      <td>111.78</td>\n",
       "      <td>10.433</td>\n",
       "      <td>4.847000</td>\n",
       "      <td>79.917</td>\n",
       "      <td>1</td>\n",
       "    </tr>\n",
       "    <tr>\n",
       "      <th>7408</th>\n",
       "      <td>7.2647</td>\n",
       "      <td>1006.3</td>\n",
       "      <td>99.496</td>\n",
       "      <td>3.4770</td>\n",
       "      <td>19.530</td>\n",
       "      <td>1037.7</td>\n",
       "      <td>537.32</td>\n",
       "      <td>110.19</td>\n",
       "      <td>10.483</td>\n",
       "      <td>7.108438</td>\n",
       "      <td>90.912</td>\n",
       "      <td>1</td>\n",
       "    </tr>\n",
       "    <tr>\n",
       "      <th>7409</th>\n",
       "      <td>7.0060</td>\n",
       "      <td>1006.8</td>\n",
       "      <td>99.008</td>\n",
       "      <td>3.4486</td>\n",
       "      <td>19.377</td>\n",
       "      <td>1043.2</td>\n",
       "      <td>541.24</td>\n",
       "      <td>110.74</td>\n",
       "      <td>10.533</td>\n",
       "      <td>6.249400</td>\n",
       "      <td>93.227</td>\n",
       "      <td>1</td>\n",
       "    </tr>\n",
       "    <tr>\n",
       "      <th>7410</th>\n",
       "      <td>6.9279</td>\n",
       "      <td>1007.2</td>\n",
       "      <td>97.533</td>\n",
       "      <td>3.4275</td>\n",
       "      <td>19.306</td>\n",
       "      <td>1049.9</td>\n",
       "      <td>545.85</td>\n",
       "      <td>111.58</td>\n",
       "      <td>10.583</td>\n",
       "      <td>4.981600</td>\n",
       "      <td>92.498</td>\n",
       "      <td>1</td>\n",
       "    </tr>\n",
       "  </tbody>\n",
       "</table>\n",
       "</div>"
      ],
      "text/plain": [
       "          AT      AP      AH    AFDP    GTEP     TIT     TAT     TEY     CDP  \\\n",
       "7406  9.0301  1005.6  98.460  3.5421  19.164  1049.7  546.21  111.61  10.400   \n",
       "7407  7.8879  1005.9  99.093  3.5059  19.414  1046.3  543.22  111.78  10.433   \n",
       "7408  7.2647  1006.3  99.496  3.4770  19.530  1037.7  537.32  110.19  10.483   \n",
       "7409  7.0060  1006.8  99.008  3.4486  19.377  1043.2  541.24  110.74  10.533   \n",
       "7410  6.9279  1007.2  97.533  3.4275  19.306  1049.9  545.85  111.58  10.583   \n",
       "\n",
       "            CO     NOX  labels  \n",
       "7406  4.518600  79.559       1  \n",
       "7407  4.847000  79.917       1  \n",
       "7408  7.108438  90.912       1  \n",
       "7409  6.249400  93.227       1  \n",
       "7410  4.981600  92.498       1  "
      ]
     },
     "execution_count": 56,
     "metadata": {},
     "output_type": "execute_result"
    }
   ],
   "source": [
    "df.tail()"
   ]
  },
  {
   "cell_type": "markdown",
   "id": "e42c6d57",
   "metadata": {},
   "source": [
    "#### Exporting output into csv"
   ]
  },
  {
   "cell_type": "code",
   "execution_count": 69,
   "id": "4f3cc13a",
   "metadata": {},
   "outputs": [],
   "source": [
    "df.to_csv('Gasturbineclusteredoutput.csv')"
   ]
  },
  {
   "cell_type": "markdown",
   "id": "9f0ad52e",
   "metadata": {},
   "source": [
    "#### Visualizing Clusters"
   ]
  },
  {
   "cell_type": "code",
   "execution_count": 57,
   "id": "a2b69669",
   "metadata": {},
   "outputs": [
    {
     "data": {
      "image/png": "[encoded data removed]",
      "text/plain": [
       "<Figure size 432x288 with 1 Axes>"
      ]
     },
     "metadata": {
      "needs_background": "light"
     },
     "output_type": "display_data"
    }
   ],
   "source": [
    "plt.scatter(df['CO'],df['NOX'],c=kmeans.labels_,cmap='rainbow')\n",
    "#plt.scatter(kmeans.cluster_centers_[:,0],kmeans.cluster_centers_[:,1],color='black')\n",
    "plt.xlabel('CO')\n",
    "plt.ylabel('NOX');"
   ]
  },
  {
   "cell_type": "markdown",
   "id": "1a168ecc",
   "metadata": {},
   "source": [
    "#### Exploring Clusters"
   ]
  },
  {
   "cell_type": "code",
   "execution_count": 58,
   "id": "8092760a",
   "metadata": {},
   "outputs": [
    {
     "data": {
      "text/plain": [
       "2    3605\n",
       "0    2220\n",
       "1    1586\n",
       "Name: labels, dtype: int64"
      ]
     },
     "execution_count": 58,
     "metadata": {},
     "output_type": "execute_result"
    }
   ],
   "source": [
    "df['labels'].value_counts()"
   ]
  },
  {
   "cell_type": "code",
   "execution_count": 66,
   "id": "95d8de66",
   "metadata": {},
   "outputs": [
    {
     "data": {
      "text/html": [
       "<div>\n",
       "<style scoped>\n",
       "    .dataframe tbody tr th:only-of-type {\n",
       "        vertical-align: middle;\n",
       "    }\n",
       "\n",
       "    .dataframe tbody tr th {\n",
       "        vertical-align: top;\n",
       "    }\n",
       "\n",
       "    .dataframe thead th {\n",
       "        text-align: right;\n",
       "    }\n",
       "</style>\n",
       "<table border=\"1\" class=\"dataframe\">\n",
       "  <thead>\n",
       "    <tr style=\"text-align: right;\">\n",
       "      <th></th>\n",
       "      <th>AT</th>\n",
       "      <th>AP</th>\n",
       "      <th>AH</th>\n",
       "      <th>AFDP</th>\n",
       "      <th>GTEP</th>\n",
       "      <th>TIT</th>\n",
       "      <th>TAT</th>\n",
       "      <th>TEY</th>\n",
       "      <th>CDP</th>\n",
       "      <th>CO</th>\n",
       "      <th>NOX</th>\n",
       "      <th>labels</th>\n",
       "    </tr>\n",
       "  </thead>\n",
       "  <tbody>\n",
       "    <tr>\n",
       "      <th>11</th>\n",
       "      <td>7.9896</td>\n",
       "      <td>1017.9</td>\n",
       "      <td>87.541</td>\n",
       "      <td>4.3905</td>\n",
       "      <td>30.128</td>\n",
       "      <td>1094.5</td>\n",
       "      <td>534.81</td>\n",
       "      <td>152.60</td>\n",
       "      <td>13.333</td>\n",
       "      <td>0.94292</td>\n",
       "      <td>73.286</td>\n",
       "      <td>0</td>\n",
       "    </tr>\n",
       "    <tr>\n",
       "      <th>12</th>\n",
       "      <td>9.8712</td>\n",
       "      <td>1017.2</td>\n",
       "      <td>84.249</td>\n",
       "      <td>4.6983</td>\n",
       "      <td>32.341</td>\n",
       "      <td>1100.2</td>\n",
       "      <td>530.58</td>\n",
       "      <td>159.99</td>\n",
       "      <td>13.929</td>\n",
       "      <td>1.04280</td>\n",
       "      <td>70.558</td>\n",
       "      <td>0</td>\n",
       "    </tr>\n",
       "    <tr>\n",
       "      <th>13</th>\n",
       "      <td>10.7220</td>\n",
       "      <td>1016.5</td>\n",
       "      <td>80.263</td>\n",
       "      <td>4.7526</td>\n",
       "      <td>32.739</td>\n",
       "      <td>1100.2</td>\n",
       "      <td>528.93</td>\n",
       "      <td>160.60</td>\n",
       "      <td>14.049</td>\n",
       "      <td>1.34840</td>\n",
       "      <td>71.115</td>\n",
       "      <td>0</td>\n",
       "    </tr>\n",
       "    <tr>\n",
       "      <th>14</th>\n",
       "      <td>11.0170</td>\n",
       "      <td>1016.3</td>\n",
       "      <td>78.128</td>\n",
       "      <td>4.7440</td>\n",
       "      <td>32.672</td>\n",
       "      <td>1100.1</td>\n",
       "      <td>529.06</td>\n",
       "      <td>160.40</td>\n",
       "      <td>14.018</td>\n",
       "      <td>1.06860</td>\n",
       "      <td>70.107</td>\n",
       "      <td>0</td>\n",
       "    </tr>\n",
       "    <tr>\n",
       "      <th>15</th>\n",
       "      <td>10.9460</td>\n",
       "      <td>1016.2</td>\n",
       "      <td>77.960</td>\n",
       "      <td>4.6919</td>\n",
       "      <td>32.424</td>\n",
       "      <td>1100.3</td>\n",
       "      <td>530.67</td>\n",
       "      <td>160.09</td>\n",
       "      <td>13.945</td>\n",
       "      <td>0.21538</td>\n",
       "      <td>67.415</td>\n",
       "      <td>0</td>\n",
       "    </tr>\n",
       "    <tr>\n",
       "      <th>...</th>\n",
       "      <td>...</td>\n",
       "      <td>...</td>\n",
       "      <td>...</td>\n",
       "      <td>...</td>\n",
       "      <td>...</td>\n",
       "      <td>...</td>\n",
       "      <td>...</td>\n",
       "      <td>...</td>\n",
       "      <td>...</td>\n",
       "      <td>...</td>\n",
       "      <td>...</td>\n",
       "      <td>...</td>\n",
       "    </tr>\n",
       "    <tr>\n",
       "      <th>7321</th>\n",
       "      <td>9.5553</td>\n",
       "      <td>1031.7</td>\n",
       "      <td>79.888</td>\n",
       "      <td>5.2753</td>\n",
       "      <td>33.211</td>\n",
       "      <td>1100.2</td>\n",
       "      <td>525.60</td>\n",
       "      <td>163.52</td>\n",
       "      <td>14.276</td>\n",
       "      <td>0.67902</td>\n",
       "      <td>61.853</td>\n",
       "      <td>0</td>\n",
       "    </tr>\n",
       "    <tr>\n",
       "      <th>7322</th>\n",
       "      <td>9.0601</td>\n",
       "      <td>1031.5</td>\n",
       "      <td>83.010</td>\n",
       "      <td>5.3986</td>\n",
       "      <td>33.816</td>\n",
       "      <td>1100.0</td>\n",
       "      <td>523.63</td>\n",
       "      <td>165.31</td>\n",
       "      <td>14.391</td>\n",
       "      <td>0.72577</td>\n",
       "      <td>61.280</td>\n",
       "      <td>0</td>\n",
       "    </tr>\n",
       "    <tr>\n",
       "      <th>7323</th>\n",
       "      <td>8.0589</td>\n",
       "      <td>1031.2</td>\n",
       "      <td>85.986</td>\n",
       "      <td>4.8726</td>\n",
       "      <td>30.035</td>\n",
       "      <td>1094.4</td>\n",
       "      <td>533.39</td>\n",
       "      <td>154.53</td>\n",
       "      <td>13.437</td>\n",
       "      <td>0.89657</td>\n",
       "      <td>69.412</td>\n",
       "      <td>0</td>\n",
       "    </tr>\n",
       "    <tr>\n",
       "      <th>7335</th>\n",
       "      <td>5.2822</td>\n",
       "      <td>1030.1</td>\n",
       "      <td>94.844</td>\n",
       "      <td>4.8530</td>\n",
       "      <td>29.311</td>\n",
       "      <td>1099.6</td>\n",
       "      <td>538.60</td>\n",
       "      <td>155.69</td>\n",
       "      <td>13.337</td>\n",
       "      <td>1.13450</td>\n",
       "      <td>75.627</td>\n",
       "      <td>0</td>\n",
       "    </tr>\n",
       "    <tr>\n",
       "      <th>7336</th>\n",
       "      <td>7.0311</td>\n",
       "      <td>1030.1</td>\n",
       "      <td>93.637</td>\n",
       "      <td>4.8118</td>\n",
       "      <td>29.298</td>\n",
       "      <td>1099.7</td>\n",
       "      <td>539.13</td>\n",
       "      <td>154.72</td>\n",
       "      <td>13.237</td>\n",
       "      <td>0.80091</td>\n",
       "      <td>74.359</td>\n",
       "      <td>0</td>\n",
       "    </tr>\n",
       "  </tbody>\n",
       "</table>\n",
       "<p>2220 rows × 12 columns</p>\n",
       "</div>"
      ],
      "text/plain": [
       "           AT      AP      AH    AFDP    GTEP     TIT     TAT     TEY     CDP  \\\n",
       "11     7.9896  1017.9  87.541  4.3905  30.128  1094.5  534.81  152.60  13.333   \n",
       "12     9.8712  1017.2  84.249  4.6983  32.341  1100.2  530.58  159.99  13.929   \n",
       "13    10.7220  1016.5  80.263  4.7526  32.739  1100.2  528.93  160.60  14.049   \n",
       "14    11.0170  1016.3  78.128  4.7440  32.672  1100.1  529.06  160.40  14.018   \n",
       "15    10.9460  1016.2  77.960  4.6919  32.424  1100.3  530.67  160.09  13.945   \n",
       "...       ...     ...     ...     ...     ...     ...     ...     ...     ...   \n",
       "7321   9.5553  1031.7  79.888  5.2753  33.211  1100.2  525.60  163.52  14.276   \n",
       "7322   9.0601  1031.5  83.010  5.3986  33.816  1100.0  523.63  165.31  14.391   \n",
       "7323   8.0589  1031.2  85.986  4.8726  30.035  1094.4  533.39  154.53  13.437   \n",
       "7335   5.2822  1030.1  94.844  4.8530  29.311  1099.6  538.60  155.69  13.337   \n",
       "7336   7.0311  1030.1  93.637  4.8118  29.298  1099.7  539.13  154.72  13.237   \n",
       "\n",
       "           CO     NOX  labels  \n",
       "11    0.94292  73.286       0  \n",
       "12    1.04280  70.558       0  \n",
       "13    1.34840  71.115       0  \n",
       "14    1.06860  70.107       0  \n",
       "15    0.21538  67.415       0  \n",
       "...       ...     ...     ...  \n",
       "7321  0.67902  61.853       0  \n",
       "7322  0.72577  61.280       0  \n",
       "7323  0.89657  69.412       0  \n",
       "7335  1.13450  75.627       0  \n",
       "7336  0.80091  74.359       0  \n",
       "\n",
       "[2220 rows x 12 columns]"
      ]
     },
     "execution_count": 66,
     "metadata": {},
     "output_type": "execute_result"
    }
   ],
   "source": [
    "lowCO_lowNOX=df.loc[(df['labels']==0)]\n",
    "lowCO_lowNOX"
   ]
  },
  {
   "cell_type": "code",
   "execution_count": 67,
   "id": "2c076d64",
   "metadata": {},
   "outputs": [
    {
     "data": {
      "text/html": [
       "<div>\n",
       "<style scoped>\n",
       "    .dataframe tbody tr th:only-of-type {\n",
       "        vertical-align: middle;\n",
       "    }\n",
       "\n",
       "    .dataframe tbody tr th {\n",
       "        vertical-align: top;\n",
       "    }\n",
       "\n",
       "    .dataframe thead th {\n",
       "        text-align: right;\n",
       "    }\n",
       "</style>\n",
       "<table border=\"1\" class=\"dataframe\">\n",
       "  <thead>\n",
       "    <tr style=\"text-align: right;\">\n",
       "      <th></th>\n",
       "      <th>AT</th>\n",
       "      <th>AP</th>\n",
       "      <th>AH</th>\n",
       "      <th>AFDP</th>\n",
       "      <th>GTEP</th>\n",
       "      <th>TIT</th>\n",
       "      <th>TAT</th>\n",
       "      <th>TEY</th>\n",
       "      <th>CDP</th>\n",
       "      <th>CO</th>\n",
       "      <th>NOX</th>\n",
       "      <th>labels</th>\n",
       "    </tr>\n",
       "  </thead>\n",
       "  <tbody>\n",
       "    <tr>\n",
       "      <th>20</th>\n",
       "      <td>5.4906</td>\n",
       "      <td>1013.9</td>\n",
       "      <td>88.626</td>\n",
       "      <td>3.2829</td>\n",
       "      <td>21.254</td>\n",
       "      <td>1069.3</td>\n",
       "      <td>549.65</td>\n",
       "      <td>121.95</td>\n",
       "      <td>11.132</td>\n",
       "      <td>1.166200</td>\n",
       "      <td>84.908</td>\n",
       "      <td>1</td>\n",
       "    </tr>\n",
       "    <tr>\n",
       "      <th>905</th>\n",
       "      <td>10.6300</td>\n",
       "      <td>1010.3</td>\n",
       "      <td>82.685</td>\n",
       "      <td>3.3995</td>\n",
       "      <td>18.778</td>\n",
       "      <td>1053.9</td>\n",
       "      <td>550.03</td>\n",
       "      <td>110.86</td>\n",
       "      <td>10.268</td>\n",
       "      <td>3.859300</td>\n",
       "      <td>86.072</td>\n",
       "      <td>1</td>\n",
       "    </tr>\n",
       "    <tr>\n",
       "      <th>927</th>\n",
       "      <td>8.8774</td>\n",
       "      <td>1015.3</td>\n",
       "      <td>78.083</td>\n",
       "      <td>3.3170</td>\n",
       "      <td>19.103</td>\n",
       "      <td>1047.5</td>\n",
       "      <td>544.16</td>\n",
       "      <td>111.58</td>\n",
       "      <td>10.337</td>\n",
       "      <td>4.233800</td>\n",
       "      <td>98.894</td>\n",
       "      <td>1</td>\n",
       "    </tr>\n",
       "    <tr>\n",
       "      <th>928</th>\n",
       "      <td>7.3684</td>\n",
       "      <td>1016.5</td>\n",
       "      <td>80.090</td>\n",
       "      <td>3.4476</td>\n",
       "      <td>19.166</td>\n",
       "      <td>1057.7</td>\n",
       "      <td>550.13</td>\n",
       "      <td>111.73</td>\n",
       "      <td>10.530</td>\n",
       "      <td>3.073500</td>\n",
       "      <td>99.470</td>\n",
       "      <td>1</td>\n",
       "    </tr>\n",
       "    <tr>\n",
       "      <th>929</th>\n",
       "      <td>8.0533</td>\n",
       "      <td>1016.9</td>\n",
       "      <td>81.311</td>\n",
       "      <td>3.5359</td>\n",
       "      <td>19.577</td>\n",
       "      <td>1059.6</td>\n",
       "      <td>550.22</td>\n",
       "      <td>112.62</td>\n",
       "      <td>10.743</td>\n",
       "      <td>2.159500</td>\n",
       "      <td>85.407</td>\n",
       "      <td>1</td>\n",
       "    </tr>\n",
       "    <tr>\n",
       "      <th>...</th>\n",
       "      <td>...</td>\n",
       "      <td>...</td>\n",
       "      <td>...</td>\n",
       "      <td>...</td>\n",
       "      <td>...</td>\n",
       "      <td>...</td>\n",
       "      <td>...</td>\n",
       "      <td>...</td>\n",
       "      <td>...</td>\n",
       "      <td>...</td>\n",
       "      <td>...</td>\n",
       "      <td>...</td>\n",
       "    </tr>\n",
       "    <tr>\n",
       "      <th>7406</th>\n",
       "      <td>9.0301</td>\n",
       "      <td>1005.6</td>\n",
       "      <td>98.460</td>\n",
       "      <td>3.5421</td>\n",
       "      <td>19.164</td>\n",
       "      <td>1049.7</td>\n",
       "      <td>546.21</td>\n",
       "      <td>111.61</td>\n",
       "      <td>10.400</td>\n",
       "      <td>4.518600</td>\n",
       "      <td>79.559</td>\n",
       "      <td>1</td>\n",
       "    </tr>\n",
       "    <tr>\n",
       "      <th>7407</th>\n",
       "      <td>7.8879</td>\n",
       "      <td>1005.9</td>\n",
       "      <td>99.093</td>\n",
       "      <td>3.5059</td>\n",
       "      <td>19.414</td>\n",
       "      <td>1046.3</td>\n",
       "      <td>543.22</td>\n",
       "      <td>111.78</td>\n",
       "      <td>10.433</td>\n",
       "      <td>4.847000</td>\n",
       "      <td>79.917</td>\n",
       "      <td>1</td>\n",
       "    </tr>\n",
       "    <tr>\n",
       "      <th>7408</th>\n",
       "      <td>7.2647</td>\n",
       "      <td>1006.3</td>\n",
       "      <td>99.496</td>\n",
       "      <td>3.4770</td>\n",
       "      <td>19.530</td>\n",
       "      <td>1037.7</td>\n",
       "      <td>537.32</td>\n",
       "      <td>110.19</td>\n",
       "      <td>10.483</td>\n",
       "      <td>7.108438</td>\n",
       "      <td>90.912</td>\n",
       "      <td>1</td>\n",
       "    </tr>\n",
       "    <tr>\n",
       "      <th>7409</th>\n",
       "      <td>7.0060</td>\n",
       "      <td>1006.8</td>\n",
       "      <td>99.008</td>\n",
       "      <td>3.4486</td>\n",
       "      <td>19.377</td>\n",
       "      <td>1043.2</td>\n",
       "      <td>541.24</td>\n",
       "      <td>110.74</td>\n",
       "      <td>10.533</td>\n",
       "      <td>6.249400</td>\n",
       "      <td>93.227</td>\n",
       "      <td>1</td>\n",
       "    </tr>\n",
       "    <tr>\n",
       "      <th>7410</th>\n",
       "      <td>6.9279</td>\n",
       "      <td>1007.2</td>\n",
       "      <td>97.533</td>\n",
       "      <td>3.4275</td>\n",
       "      <td>19.306</td>\n",
       "      <td>1049.9</td>\n",
       "      <td>545.85</td>\n",
       "      <td>111.58</td>\n",
       "      <td>10.583</td>\n",
       "      <td>4.981600</td>\n",
       "      <td>92.498</td>\n",
       "      <td>1</td>\n",
       "    </tr>\n",
       "  </tbody>\n",
       "</table>\n",
       "<p>1586 rows × 12 columns</p>\n",
       "</div>"
      ],
      "text/plain": [
       "           AT      AP      AH    AFDP    GTEP     TIT     TAT     TEY     CDP  \\\n",
       "20     5.4906  1013.9  88.626  3.2829  21.254  1069.3  549.65  121.95  11.132   \n",
       "905   10.6300  1010.3  82.685  3.3995  18.778  1053.9  550.03  110.86  10.268   \n",
       "927    8.8774  1015.3  78.083  3.3170  19.103  1047.5  544.16  111.58  10.337   \n",
       "928    7.3684  1016.5  80.090  3.4476  19.166  1057.7  550.13  111.73  10.530   \n",
       "929    8.0533  1016.9  81.311  3.5359  19.577  1059.6  550.22  112.62  10.743   \n",
       "...       ...     ...     ...     ...     ...     ...     ...     ...     ...   \n",
       "7406   9.0301  1005.6  98.460  3.5421  19.164  1049.7  546.21  111.61  10.400   \n",
       "7407   7.8879  1005.9  99.093  3.5059  19.414  1046.3  543.22  111.78  10.433   \n",
       "7408   7.2647  1006.3  99.496  3.4770  19.530  1037.7  537.32  110.19  10.483   \n",
       "7409   7.0060  1006.8  99.008  3.4486  19.377  1043.2  541.24  110.74  10.533   \n",
       "7410   6.9279  1007.2  97.533  3.4275  19.306  1049.9  545.85  111.58  10.583   \n",
       "\n",
       "            CO     NOX  labels  \n",
       "20    1.166200  84.908       1  \n",
       "905   3.859300  86.072       1  \n",
       "927   4.233800  98.894       1  \n",
       "928   3.073500  99.470       1  \n",
       "929   2.159500  85.407       1  \n",
       "...        ...     ...     ...  \n",
       "7406  4.518600  79.559       1  \n",
       "7407  4.847000  79.917       1  \n",
       "7408  7.108438  90.912       1  \n",
       "7409  6.249400  93.227       1  \n",
       "7410  4.981600  92.498       1  \n",
       "\n",
       "[1586 rows x 12 columns]"
      ]
     },
     "execution_count": 67,
     "metadata": {},
     "output_type": "execute_result"
    }
   ],
   "source": [
    "highCO_highNOX=df.loc[(df['labels']==1)]\n",
    "highCO_highNOX"
   ]
  },
  {
   "cell_type": "code",
   "execution_count": 68,
   "id": "39242213",
   "metadata": {},
   "outputs": [
    {
     "data": {
      "text/html": [
       "<div>\n",
       "<style scoped>\n",
       "    .dataframe tbody tr th:only-of-type {\n",
       "        vertical-align: middle;\n",
       "    }\n",
       "\n",
       "    .dataframe tbody tr th {\n",
       "        vertical-align: top;\n",
       "    }\n",
       "\n",
       "    .dataframe thead th {\n",
       "        text-align: right;\n",
       "    }\n",
       "</style>\n",
       "<table border=\"1\" class=\"dataframe\">\n",
       "  <thead>\n",
       "    <tr style=\"text-align: right;\">\n",
       "      <th></th>\n",
       "      <th>AT</th>\n",
       "      <th>AP</th>\n",
       "      <th>AH</th>\n",
       "      <th>AFDP</th>\n",
       "      <th>GTEP</th>\n",
       "      <th>TIT</th>\n",
       "      <th>TAT</th>\n",
       "      <th>TEY</th>\n",
       "      <th>CDP</th>\n",
       "      <th>CO</th>\n",
       "      <th>NOX</th>\n",
       "      <th>labels</th>\n",
       "    </tr>\n",
       "  </thead>\n",
       "  <tbody>\n",
       "    <tr>\n",
       "      <th>0</th>\n",
       "      <td>4.5878</td>\n",
       "      <td>1018.7</td>\n",
       "      <td>83.675</td>\n",
       "      <td>3.5758</td>\n",
       "      <td>23.979</td>\n",
       "      <td>1086.2</td>\n",
       "      <td>549.83</td>\n",
       "      <td>134.67</td>\n",
       "      <td>11.898</td>\n",
       "      <td>0.32663</td>\n",
       "      <td>81.952</td>\n",
       "      <td>2</td>\n",
       "    </tr>\n",
       "    <tr>\n",
       "      <th>1</th>\n",
       "      <td>4.2932</td>\n",
       "      <td>1018.3</td>\n",
       "      <td>84.235</td>\n",
       "      <td>3.5709</td>\n",
       "      <td>23.951</td>\n",
       "      <td>1086.1</td>\n",
       "      <td>550.05</td>\n",
       "      <td>134.67</td>\n",
       "      <td>11.892</td>\n",
       "      <td>0.44784</td>\n",
       "      <td>82.377</td>\n",
       "      <td>2</td>\n",
       "    </tr>\n",
       "    <tr>\n",
       "      <th>2</th>\n",
       "      <td>3.9045</td>\n",
       "      <td>1018.4</td>\n",
       "      <td>84.858</td>\n",
       "      <td>3.5828</td>\n",
       "      <td>23.990</td>\n",
       "      <td>1086.5</td>\n",
       "      <td>550.19</td>\n",
       "      <td>135.10</td>\n",
       "      <td>12.042</td>\n",
       "      <td>0.45144</td>\n",
       "      <td>83.776</td>\n",
       "      <td>2</td>\n",
       "    </tr>\n",
       "    <tr>\n",
       "      <th>3</th>\n",
       "      <td>3.7436</td>\n",
       "      <td>1018.3</td>\n",
       "      <td>85.434</td>\n",
       "      <td>3.5808</td>\n",
       "      <td>23.911</td>\n",
       "      <td>1086.5</td>\n",
       "      <td>550.17</td>\n",
       "      <td>135.03</td>\n",
       "      <td>11.990</td>\n",
       "      <td>0.23107</td>\n",
       "      <td>82.505</td>\n",
       "      <td>2</td>\n",
       "    </tr>\n",
       "    <tr>\n",
       "      <th>4</th>\n",
       "      <td>3.7516</td>\n",
       "      <td>1017.8</td>\n",
       "      <td>85.182</td>\n",
       "      <td>3.5781</td>\n",
       "      <td>23.917</td>\n",
       "      <td>1085.9</td>\n",
       "      <td>550.00</td>\n",
       "      <td>134.67</td>\n",
       "      <td>11.910</td>\n",
       "      <td>0.26747</td>\n",
       "      <td>82.028</td>\n",
       "      <td>2</td>\n",
       "    </tr>\n",
       "    <tr>\n",
       "      <th>...</th>\n",
       "      <td>...</td>\n",
       "      <td>...</td>\n",
       "      <td>...</td>\n",
       "      <td>...</td>\n",
       "      <td>...</td>\n",
       "      <td>...</td>\n",
       "      <td>...</td>\n",
       "      <td>...</td>\n",
       "      <td>...</td>\n",
       "      <td>...</td>\n",
       "      <td>...</td>\n",
       "      <td>...</td>\n",
       "    </tr>\n",
       "    <tr>\n",
       "      <th>7389</th>\n",
       "      <td>13.6390</td>\n",
       "      <td>1009.7</td>\n",
       "      <td>73.772</td>\n",
       "      <td>4.1783</td>\n",
       "      <td>24.111</td>\n",
       "      <td>1085.2</td>\n",
       "      <td>550.04</td>\n",
       "      <td>133.76</td>\n",
       "      <td>11.982</td>\n",
       "      <td>1.59630</td>\n",
       "      <td>75.681</td>\n",
       "      <td>2</td>\n",
       "    </tr>\n",
       "    <tr>\n",
       "      <th>7390</th>\n",
       "      <td>12.7590</td>\n",
       "      <td>1009.4</td>\n",
       "      <td>80.112</td>\n",
       "      <td>4.2114</td>\n",
       "      <td>24.317</td>\n",
       "      <td>1086.2</td>\n",
       "      <td>550.15</td>\n",
       "      <td>134.54</td>\n",
       "      <td>11.851</td>\n",
       "      <td>1.60530</td>\n",
       "      <td>76.154</td>\n",
       "      <td>2</td>\n",
       "    </tr>\n",
       "    <tr>\n",
       "      <th>7392</th>\n",
       "      <td>12.2120</td>\n",
       "      <td>1009.0</td>\n",
       "      <td>79.935</td>\n",
       "      <td>4.1351</td>\n",
       "      <td>24.205</td>\n",
       "      <td>1084.3</td>\n",
       "      <td>549.67</td>\n",
       "      <td>133.78</td>\n",
       "      <td>11.803</td>\n",
       "      <td>2.34800</td>\n",
       "      <td>79.477</td>\n",
       "      <td>2</td>\n",
       "    </tr>\n",
       "    <tr>\n",
       "      <th>7396</th>\n",
       "      <td>10.2620</td>\n",
       "      <td>1006.3</td>\n",
       "      <td>80.852</td>\n",
       "      <td>3.7785</td>\n",
       "      <td>21.965</td>\n",
       "      <td>1070.2</td>\n",
       "      <td>549.19</td>\n",
       "      <td>123.78</td>\n",
       "      <td>11.187</td>\n",
       "      <td>2.32330</td>\n",
       "      <td>79.626</td>\n",
       "      <td>2</td>\n",
       "    </tr>\n",
       "    <tr>\n",
       "      <th>7404</th>\n",
       "      <td>10.3470</td>\n",
       "      <td>1004.9</td>\n",
       "      <td>100.170</td>\n",
       "      <td>4.3198</td>\n",
       "      <td>24.048</td>\n",
       "      <td>1084.3</td>\n",
       "      <td>549.98</td>\n",
       "      <td>133.74</td>\n",
       "      <td>11.685</td>\n",
       "      <td>1.36630</td>\n",
       "      <td>74.547</td>\n",
       "      <td>2</td>\n",
       "    </tr>\n",
       "  </tbody>\n",
       "</table>\n",
       "<p>3605 rows × 12 columns</p>\n",
       "</div>"
      ],
      "text/plain": [
       "           AT      AP       AH    AFDP    GTEP     TIT     TAT     TEY  \\\n",
       "0      4.5878  1018.7   83.675  3.5758  23.979  1086.2  549.83  134.67   \n",
       "1      4.2932  1018.3   84.235  3.5709  23.951  1086.1  550.05  134.67   \n",
       "2      3.9045  1018.4   84.858  3.5828  23.990  1086.5  550.19  135.10   \n",
       "3      3.7436  1018.3   85.434  3.5808  23.911  1086.5  550.17  135.03   \n",
       "4      3.7516  1017.8   85.182  3.5781  23.917  1085.9  550.00  134.67   \n",
       "...       ...     ...      ...     ...     ...     ...     ...     ...   \n",
       "7389  13.6390  1009.7   73.772  4.1783  24.111  1085.2  550.04  133.76   \n",
       "7390  12.7590  1009.4   80.112  4.2114  24.317  1086.2  550.15  134.54   \n",
       "7392  12.2120  1009.0   79.935  4.1351  24.205  1084.3  549.67  133.78   \n",
       "7396  10.2620  1006.3   80.852  3.7785  21.965  1070.2  549.19  123.78   \n",
       "7404  10.3470  1004.9  100.170  4.3198  24.048  1084.3  549.98  133.74   \n",
       "\n",
       "         CDP       CO     NOX  labels  \n",
       "0     11.898  0.32663  81.952       2  \n",
       "1     11.892  0.44784  82.377       2  \n",
       "2     12.042  0.45144  83.776       2  \n",
       "3     11.990  0.23107  82.505       2  \n",
       "4     11.910  0.26747  82.028       2  \n",
       "...      ...      ...     ...     ...  \n",
       "7389  11.982  1.59630  75.681       2  \n",
       "7390  11.851  1.60530  76.154       2  \n",
       "7392  11.803  2.34800  79.477       2  \n",
       "7396  11.187  2.32330  79.626       2  \n",
       "7404  11.685  1.36630  74.547       2  \n",
       "\n",
       "[3605 rows x 12 columns]"
      ]
     },
     "execution_count": 68,
     "metadata": {},
     "output_type": "execute_result"
    }
   ],
   "source": [
    "midCO_midNOX=df.loc[(df['labels']==2)]\n",
    "midCO_midNOX"
   ]
  },
  {
   "cell_type": "code",
   "execution_count": null,
   "id": "e65858a2",
   "metadata": {},
   "outputs": [],
   "source": []
  }
 ],
 "metadata": {
  "kernelspec": {
   "display_name": "Python 3",
   "language": "python",
   "name": "python3"
  },
  "language_info": {
   "codemirror_mode": {
    "name": "ipython",
    "version": 3
   },
   "file_extension": ".py",
   "mimetype": "text/x-python",
   "name": "python",
   "nbconvert_exporter": "python",
   "pygments_lexer": "ipython3",
   "version": "3.8.8"
  }
 },
 "nbformat": 4,
 "nbformat_minor": 5
}
